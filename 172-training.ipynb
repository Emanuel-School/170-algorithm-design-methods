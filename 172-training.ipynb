{
 "cells": [
  {
   "cell_type": "markdown",
   "id": "d9047adc",
   "metadata": {},
   "source": [
    "# 172 Training: Practising Algorithm Design\n",
    "In this training notebook, you will practise key algorithm design methods, including decomposition, abstraction, pseudocode, flowcharts, and structured problem-solving strategies. Complete each section carefully, writing both pseudocode and Python code where instructed.\n",
    "\n",
    "**Learning goals:**\n",
    "- Practise breaking problems into smaller components\n",
    "- Write clear pseudocode and visual representations\n",
    "- Translate designs into working Python code\n",
    "- Reflect on design decisions and improvements"
   ]
  },
  {
   "cell_type": "markdown",
   "id": "0bc9fcc1",
   "metadata": {},
   "source": [
    "## Task 1: Decomposition\n",
    "Choose a simple daily task (e.g., making a cup of tea) and decompose it into **at least five distinct steps**.\n",
    "\n",
    "**Write your decomposition here:**\n"
   ]
  },
  {
   "cell_type": "markdown",
   "id": "067d86c6",
   "metadata": {},
   "source": [
    "_Your decomposition steps go here._"
   ]
  },
  {
   "cell_type": "markdown",
   "id": "8e208bf2",
   "metadata": {},
   "source": [
    "## Task 2: Pseudocode\n",
    "Write pseudocode (with `BEGIN` and `END`) for a program that asks the user for two numbers and outputs the larger number."
   ]
  },
  {
   "cell_type": "markdown",
   "id": "a68fc667",
   "metadata": {},
   "source": [
    "_Your pseudocode goes here._"
   ]
  },
  {
   "cell_type": "markdown",
   "id": "3e3355f2",
   "metadata": {},
   "source": [
    "## Task 3: Flowchart\n",
    "Draw a flowchart for the same problem (find the larger of two numbers). You can create it using an online tool (e.g., Lucidchart, draw.io) and insert a link or describe the key flowchart components here."
   ]
  },
  {
   "cell_type": "markdown",
   "id": "09eb57e6",
   "metadata": {},
   "source": [
    "_Your flowchart or description goes here._"
   ]
  },
  {
   "cell_type": "markdown",
   "id": "564cfbab",
   "metadata": {},
   "source": [
    "## Task 4: Python implementation\n",
    "Translate your pseudocode from Task 2 into Python code and test it."
   ]
  },
  {
   "cell_type": "code",
   "execution_count": null,
   "id": "ea3b7a2e",
   "metadata": {},
   "outputs": [],
   "source": [
    "# Your Python code here"
   ]
  },
  {
   "cell_type": "markdown",
   "id": "5fc7029e",
   "metadata": {},
   "source": [
    "## Task 5: Reflection\n",
    "Answer the following:\n",
    "- How did decomposition help you structure the problem?\n",
    "- What challenges did you face moving from pseudocode to Python?\n",
    "- How would you improve your design or implementation next time?"
   ]
  },
  {
   "cell_type": "markdown",
   "id": "254f0796",
   "metadata": {},
   "source": [
    "_Your reflection goes here._"
   ]
  },
  {
   "cell_type": "markdown",
   "id": "0bc9fcc1",
   "metadata": {},
   "source": [
    "## Task 6: Bottom-up design\n",
    "Identify a small, reusable component you could use in multiple programs (for example, a function to check if a string is a palindrome, or a helper function to calculate factorial).\n",
    "1. Describe the problem it solves.\n",
    "2. Write pseudocode (with `BEGIN` and `END`) for just this small component.\n",
    "3. Write and test the Python function for this component.\n",
    "4. Describe how you could integrate this small component into a larger program in the future.\n"
   ]
  }
 ],
 "metadata": {},
 "nbformat": 4,
 "nbformat_minor": 5
}
